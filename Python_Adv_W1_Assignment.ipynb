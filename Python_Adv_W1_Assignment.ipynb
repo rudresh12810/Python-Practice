{
 "cells": [
  {
   "cell_type": "markdown",
   "id": "fba144ef",
   "metadata": {
    "id": "fba144ef"
   },
   "source": [
    "# Python 201 - Assignment 01"
   ]
  },
  {
   "cell_type": "markdown",
   "id": "0744753e",
   "metadata": {
    "id": "0744753e"
   },
   "source": [
    "## Q1:  Write a NumPy program to create a 8x8 matrix and fill it with a checkerboard pattern.\n",
    "\n"
   ]
  },
  {
   "cell_type": "code",
   "execution_count": null,
   "id": "f855e9a0",
   "metadata": {},
   "outputs": [],
   "source": [
    "a = np.full((8,8),1)\n",
    "print(a) \n",
    "\n",
    "a[::2, ::2] = 0\n",
    "a[1::2, 1::2] = 0\n",
    "a\n",
    "#xxxxxxxxxxxxxxxxxxxxxxxxxxxxxxxxxxxxxxx"
   ]
  },
  {
   "cell_type": "code",
   "execution_count": 5,
   "id": "0a1573f4",
   "metadata": {
    "id": "0a1573f4"
   },
   "outputs": [
    {
     "name": "stdout",
     "output_type": "stream",
     "text": [
      "[[0 1 0 1 0 1 0 1]\n",
      " [1 0 1 0 1 0 1 0]\n",
      " [0 1 0 1 0 1 0 1]\n",
      " [1 0 1 0 1 0 1 0]\n",
      " [0 1 0 1 0 1 0 1]\n",
      " [1 0 1 0 1 0 1 0]\n",
      " [0 1 0 1 0 1 0 1]\n",
      " [1 0 1 0 1 0 1 0]]\n"
     ]
    }
   ],
   "source": [
    "# Ans: Syntax of 2D Array Slicing:   array[start_row:stop_row:step_row, start_column:stop_column:step_column]\n",
    "import numpy as np\n",
    "\n",
    "a = np.zeros((8,8), dtype=int)\n",
    "a[::2, ::2] = 0\n",
    "a[1::2, 1::2] = 0\n",
    "a[::2, 1::2] = 1\n",
    "a[1::2, ::2] = 1\n",
    "print(a)\n",
    "\n",
    "\n"
   ]
  },
  {
   "cell_type": "markdown",
   "id": "65ae02a5",
   "metadata": {
    "id": "65ae02a5"
   },
   "source": [
    "## Q2: Create a 2d array with 1 on the border and 0 inside"
   ]
  },
  {
   "cell_type": "code",
   "execution_count": 6,
   "id": "6ff5d900",
   "metadata": {
    "id": "6ff5d900"
   },
   "outputs": [
    {
     "name": "stdout",
     "output_type": "stream",
     "text": [
      "[[1 1 1 1 1 1 1 1]\n",
      " [1 0 0 0 0 0 0 1]\n",
      " [1 0 0 0 0 0 0 1]\n",
      " [1 0 0 0 0 0 0 1]\n",
      " [1 0 0 0 0 0 0 1]\n",
      " [1 0 0 0 0 0 0 1]\n",
      " [1 0 0 0 0 0 0 1]\n",
      " [1 1 1 1 1 1 1 1]]\n"
     ]
    }
   ],
   "source": [
    "# Ans:\n",
    "matrix = np.ones((8,8), dtype=int)\n",
    "matrix[1:-1, 1:-1] = 0\n",
    "\n",
    "print(matrix)"
   ]
  },
  {
   "cell_type": "markdown",
   "id": "5da48e4e",
   "metadata": {
    "id": "5da48e4e"
   },
   "source": [
    "## Q3: Create a 3x3 matrix with values ranging from 0 to 8"
   ]
  },
  {
   "cell_type": "code",
   "execution_count": 7,
   "id": "a231f27b",
   "metadata": {
    "id": "a231f27b"
   },
   "outputs": [
    {
     "name": "stdout",
     "output_type": "stream",
     "text": [
      "[[0 1 2]\n",
      " [3 4 5]\n",
      " [6 7 8]]\n"
     ]
    }
   ],
   "source": [
    "# Ans\n",
    "a = np.arange(0,9)\n",
    "b = a.reshape(3,3)\n",
    "print(b)"
   ]
  },
  {
   "cell_type": "markdown",
   "id": "5cc4b1f5",
   "metadata": {
    "id": "5cc4b1f5"
   },
   "source": [
    "## Q4: Create a vector with values ranging from 10 to 49 and then reverse the vector."
   ]
  },
  {
   "cell_type": "code",
   "execution_count": 8,
   "id": "3f2a7d7a",
   "metadata": {
    "id": "3f2a7d7a"
   },
   "outputs": [
    {
     "name": "stdout",
     "output_type": "stream",
     "text": [
      "[[0 1 2]\n",
      " [3 4 5]\n",
      " [6 7 8]]\n"
     ]
    }
   ],
   "source": [
    "# Ans\n",
    "a = np.arange(10,50)\n",
    "a = np.flip(a)\n",
    "print(b)"
   ]
  },
  {
   "cell_type": "markdown",
   "id": "5b2d54cd",
   "metadata": {
    "id": "5b2d54cd"
   },
   "source": [
    "## Q5: Find indices of non-zero elements from the numpy array - [1,2,0,0,4,0]\n"
   ]
  },
  {
   "cell_type": "code",
   "execution_count": 9,
   "id": "54d57085",
   "metadata": {},
   "outputs": [
    {
     "name": "stdout",
     "output_type": "stream",
     "text": [
      "(array([0, 1, 4], dtype=int64),)\n"
     ]
    }
   ],
   "source": [
    "arr = np.array([1, 2, 0, 0, 4, 0])\n",
    "\n",
    "\n",
    "indices = np.nonzero(arr)\n",
    "\n",
    "print(indices)"
   ]
  },
  {
   "cell_type": "markdown",
   "id": "pJwbSNkIJPSr",
   "metadata": {
    "id": "pJwbSNkIJPSr"
   },
   "source": [
    "## Q6 Wrire a recursive function that generates Fibonacci sequence of n numbers. For example, first 10 (n = 10) numbers in the sequence are  0, 1, 1, 2, 3, 5, 8, 13, 21, 34"
   ]
  },
  {
   "cell_type": "code",
   "execution_count": 10,
   "id": "ebbc645b",
   "metadata": {},
   "outputs": [
    {
     "name": "stdout",
     "output_type": "stream",
     "text": [
      "0 1 1 2 3 5 8 13 21 34\n"
     ]
    }
   ],
   "source": [
    "def fibonacci(n):\n",
    "    if n <= 0:\n",
    "        return []\n",
    "    elif n == 1:\n",
    "        return [0]\n",
    "    elif n == 2:\n",
    "        return [0, 1]\n",
    "    else:\n",
    "        sequence = fibonacci(n - 1)\n",
    "        sequence.append(sequence[-1] + sequence[-2])\n",
    "        return sequence\n",
    "\n",
    "# Generate Fibonacci sequence for n = 10\n",
    "n = 10\n",
    "fib_seq = fibonacci(n)\n",
    "\n",
    "# Print the Fibonacci sequence\n",
    "print(\" \".join(str(num) for num in fib_seq))"
   ]
  },
  {
   "cell_type": "markdown",
   "id": "Dr4YByNYLF6Z",
   "metadata": {
    "id": "Dr4YByNYLF6Z"
   },
   "source": [
    "## Q7. Check whether a number is even or odd using lambda function"
   ]
  },
  {
   "cell_type": "code",
   "execution_count": 11,
   "id": "Pmcjs0_-LLB5",
   "metadata": {
    "id": "Pmcjs0_-LLB5"
   },
   "outputs": [
    {
     "name": "stdout",
     "output_type": "stream",
     "text": [
      "Odd number\n"
     ]
    }
   ],
   "source": [
    "number = 5\n",
    "\n",
    "result = (lambda x: \"Even number\" if x % 2 == 0 else \"Odd number\")(number)\n",
    "\n",
    "print(result)\n"
   ]
  },
  {
   "cell_type": "code",
   "execution_count": null,
   "id": "dc66e81d",
   "metadata": {},
   "outputs": [],
   "source": []
  },
  {
   "cell_type": "code",
   "execution_count": null,
   "id": "c69cd236",
   "metadata": {},
   "outputs": [],
   "source": []
  }
 ],
 "metadata": {
  "colab": {
   "provenance": []
  },
  "kernelspec": {
   "display_name": "Python 3 (ipykernel)",
   "language": "python",
   "name": "python3"
  },
  "language_info": {
   "codemirror_mode": {
    "name": "ipython",
    "version": 3
   },
   "file_extension": ".py",
   "mimetype": "text/x-python",
   "name": "python",
   "nbconvert_exporter": "python",
   "pygments_lexer": "ipython3",
   "version": "3.9.7"
  }
 },
 "nbformat": 4,
 "nbformat_minor": 5
}
