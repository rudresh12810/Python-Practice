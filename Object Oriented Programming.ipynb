{
 "cells": [
  {
   "cell_type": "markdown",
   "id": "7a0e4f36",
   "metadata": {},
   "source": [
    "## Let's create our first `class`"
   ]
  },
  {
   "cell_type": "code",
   "execution_count": 13,
   "id": "525174a6",
   "metadata": {},
   "outputs": [],
   "source": [
    "class Account:\n",
    "    \n",
    "    def __init__(self, name, accountnumber, balance):  #constructor\n",
    "        self.name = name\n",
    "        self.acc_no = accountnumber\n",
    "        self.bal = balance"
   ]
  },
  {
   "cell_type": "code",
   "execution_count": 15,
   "id": "2a4566a6",
   "metadata": {},
   "outputs": [],
   "source": [
    "acc1 = Account('Rahul', 100, 40000)\n",
    "acc2 = Account('Ravina', 101, 67000)\n",
    "acc3 = Account('Sachin', 103, 1000001)"
   ]
  },
  {
   "cell_type": "code",
   "execution_count": 19,
   "id": "a1251ff1",
   "metadata": {},
   "outputs": [
    {
     "data": {
      "text/plain": [
       "40000"
      ]
     },
     "execution_count": 19,
     "metadata": {},
     "output_type": "execute_result"
    }
   ],
   "source": [
    "acc1.bal"
   ]
  },
  {
   "cell_type": "code",
   "execution_count": 20,
   "id": "b3923263",
   "metadata": {},
   "outputs": [
    {
     "data": {
      "text/plain": [
       "67000"
      ]
     },
     "execution_count": 20,
     "metadata": {},
     "output_type": "execute_result"
    }
   ],
   "source": [
    "acc2.bal"
   ]
  },
  {
   "cell_type": "code",
   "execution_count": 21,
   "id": "38521808",
   "metadata": {},
   "outputs": [
    {
     "data": {
      "text/plain": [
       "1000001"
      ]
     },
     "execution_count": 21,
     "metadata": {},
     "output_type": "execute_result"
    }
   ],
   "source": [
    "acc3.bal"
   ]
  },
  {
   "cell_type": "code",
   "execution_count": null,
   "id": "b1ba4ed8",
   "metadata": {},
   "outputs": [],
   "source": []
  },
  {
   "cell_type": "code",
   "execution_count": 22,
   "id": "e8c054b0",
   "metadata": {},
   "outputs": [
    {
     "name": "stdout",
     "output_type": "stream",
     "text": [
      "<__main__.Account object at 0x0000029B00E087C0>\n"
     ]
    }
   ],
   "source": [
    "print(acc1)"
   ]
  },
  {
   "cell_type": "code",
   "execution_count": 23,
   "id": "0ad730e4",
   "metadata": {},
   "outputs": [],
   "source": [
    "class Account:\n",
    "    \n",
    "    def __init__(self, name, accountnumber, balance):  #constructor\n",
    "        self.name = name\n",
    "        self.acc_no = accountnumber\n",
    "        self.bal = balance\n",
    "        \n",
    "    def __str__(self):\n",
    "        return f'Account belongs to {self.name}, account number is {self.acc_no} and the balance is {self.bal}'"
   ]
  },
  {
   "cell_type": "code",
   "execution_count": 24,
   "id": "2a0b5533",
   "metadata": {},
   "outputs": [],
   "source": [
    "acc1 = Account('Rahul', 100, 40000)\n",
    "acc2 = Account('Ravina', 101, 67000)\n",
    "acc3 = Account('Sachin', 103, 1000001)"
   ]
  },
  {
   "cell_type": "code",
   "execution_count": 25,
   "id": "63b45632",
   "metadata": {},
   "outputs": [
    {
     "name": "stdout",
     "output_type": "stream",
     "text": [
      "Account belongs to Rahul, account number is 100 and the balance is 40000\n"
     ]
    }
   ],
   "source": [
    "print(acc1)"
   ]
  },
  {
   "cell_type": "code",
   "execution_count": 26,
   "id": "65642a7c",
   "metadata": {},
   "outputs": [
    {
     "name": "stdout",
     "output_type": "stream",
     "text": [
      "Account belongs to Ravina, account number is 101 and the balance is 67000\n"
     ]
    }
   ],
   "source": [
    "print(acc2)"
   ]
  },
  {
   "cell_type": "markdown",
   "id": "843ad09f",
   "metadata": {},
   "source": [
    "### Default Values"
   ]
  },
  {
   "cell_type": "code",
   "execution_count": 34,
   "id": "4f1f0aac",
   "metadata": {},
   "outputs": [],
   "source": [
    "class Account:\n",
    "    \n",
    "    def __init__(self, name, accountnumber=0, balance=0):  #constructor\n",
    "        self.name = name\n",
    "        self.acc_no = accountnumber\n",
    "        self.bal = balance"
   ]
  },
  {
   "cell_type": "code",
   "execution_count": 35,
   "id": "f0694032",
   "metadata": {},
   "outputs": [],
   "source": [
    "acc1 = Account('Rahul', 40000)\n",
    "acc2 = Account('Ravina', 101, 67000)\n",
    "acc3 = Account('Sachin', 103, 1000001)"
   ]
  },
  {
   "cell_type": "code",
   "execution_count": 31,
   "id": "a297d95a",
   "metadata": {},
   "outputs": [
    {
     "data": {
      "text/plain": [
       "0"
      ]
     },
     "execution_count": 31,
     "metadata": {},
     "output_type": "execute_result"
    }
   ],
   "source": [
    "acc1.bal"
   ]
  },
  {
   "cell_type": "markdown",
   "id": "52e194c4",
   "metadata": {},
   "source": [
    "## Methods(User defined function in classes)"
   ]
  },
  {
   "cell_type": "code",
   "execution_count": 68,
   "id": "7441f367",
   "metadata": {},
   "outputs": [],
   "source": [
    "class Account:\n",
    "    \n",
    "    def __init__(self, name, accountnumber, balance):  #constructor\n",
    "        self.name = name\n",
    "        self.acc_no = accountnumber\n",
    "        self.bal = balance\n",
    "        \n",
    "    def deposit(self, amount):\n",
    "        if amount > 0:\n",
    "            self.bal = self.bal + amount\n",
    "    \n",
    "    def withdraw(self, amount):\n",
    "        if amount > 0 and self.bal >= amount:\n",
    "            self.bal = self.bal - amount\n",
    "        \n",
    "    def __str__(self):\n",
    "        return f'Account belongs to {self.name}, account number is {self.acc_no} and the balance is {self.bal}'"
   ]
  },
  {
   "cell_type": "code",
   "execution_count": 69,
   "id": "e601c9b7",
   "metadata": {},
   "outputs": [],
   "source": [
    "acc1 = Account('Rahul', 100, 40000)\n",
    "acc2 = Account('Ravina', 101, 67000)\n",
    "acc3 = Account('Sachin', 103, 1000001)"
   ]
  },
  {
   "cell_type": "code",
   "execution_count": 70,
   "id": "4cb901be",
   "metadata": {},
   "outputs": [],
   "source": [
    "acc1.deposit(5000)"
   ]
  },
  {
   "cell_type": "code",
   "execution_count": 71,
   "id": "416b317b",
   "metadata": {},
   "outputs": [
    {
     "data": {
      "text/plain": [
       "45000"
      ]
     },
     "execution_count": 71,
     "metadata": {},
     "output_type": "execute_result"
    }
   ],
   "source": [
    "acc1.bal"
   ]
  },
  {
   "cell_type": "code",
   "execution_count": 72,
   "id": "16a6d852",
   "metadata": {},
   "outputs": [],
   "source": [
    "acc1.deposit(-10000)"
   ]
  },
  {
   "cell_type": "code",
   "execution_count": 73,
   "id": "b3632dc6",
   "metadata": {},
   "outputs": [
    {
     "data": {
      "text/plain": [
       "45000"
      ]
     },
     "execution_count": 73,
     "metadata": {},
     "output_type": "execute_result"
    }
   ],
   "source": [
    "acc1.bal"
   ]
  },
  {
   "cell_type": "code",
   "execution_count": 74,
   "id": "e2981ed5",
   "metadata": {},
   "outputs": [],
   "source": [
    "acc1.withdraw(2000)"
   ]
  },
  {
   "cell_type": "code",
   "execution_count": 75,
   "id": "0623b784",
   "metadata": {},
   "outputs": [
    {
     "data": {
      "text/plain": [
       "43000"
      ]
     },
     "execution_count": 75,
     "metadata": {},
     "output_type": "execute_result"
    }
   ],
   "source": [
    "acc1.bal"
   ]
  },
  {
   "cell_type": "code",
   "execution_count": 76,
   "id": "fc7686f6",
   "metadata": {},
   "outputs": [],
   "source": [
    "acc1.withdraw(50000)"
   ]
  },
  {
   "cell_type": "code",
   "execution_count": 77,
   "id": "20080192",
   "metadata": {},
   "outputs": [
    {
     "data": {
      "text/plain": [
       "43000"
      ]
     },
     "execution_count": 77,
     "metadata": {},
     "output_type": "execute_result"
    }
   ],
   "source": [
    "acc1.bal"
   ]
  },
  {
   "cell_type": "markdown",
   "id": "8b01a55e",
   "metadata": {},
   "source": [
    "## Inheritance"
   ]
  },
  {
   "cell_type": "markdown",
   "id": "d82a7af2",
   "metadata": {},
   "source": [
    "#### <font color = 'red'>Below is the incorrect way of using the same code to implement 2 small features"
   ]
  },
  {
   "cell_type": "code",
   "execution_count": null,
   "id": "16cf961a",
   "metadata": {},
   "outputs": [],
   "source": [
    "class SavingsAccount:\n",
    "    \n",
    "    def __init__(self, name, accountnumber, balance):  #constructor\n",
    "        self.name = name\n",
    "        self.acc_no = accountnumber\n",
    "        self.bal = balance\n",
    "        self.maxtrans = 5\n",
    "        \n",
    "    def deposit(self, amount):\n",
    "        if amount > 0:\n",
    "            self.bal = self.bal + amount\n",
    "    \n",
    "    def withdraw(self, amount):\n",
    "        if amount > 0 and self.bal >= amount:\n",
    "            self.bal = self.bal - amount\n",
    "        \n",
    "    def __str__(self):\n",
    "        return f'Account belongs to {self.name}, account number is {self.acc_no} and the balance is {self.bal}'\n",
    "    \n",
    "\n",
    "class CurrentAccount:\n",
    "    \n",
    "    def __init__(self, name, accountnumber, balance):  #constructor\n",
    "        self.name = name\n",
    "        self.acc_no = accountnumber\n",
    "        self.bal = balance\n",
    "        self.maxtrans = 50\n",
    "        \n",
    "    def deposit(self, amount):\n",
    "        if amount > 0:\n",
    "            self.bal = self.bal + amount\n",
    "    \n",
    "    def withdraw(self, amount):\n",
    "        if amount > 0 and self.bal >= amount:\n",
    "            self.bal = self.bal - amount\n",
    "        \n",
    "    def __str__(self):\n",
    "        return f'Account belongs to {self.name}, account number is {self.acc_no} and the balance is {self.bal}'"
   ]
  },
  {
   "cell_type": "markdown",
   "id": "1838f08b",
   "metadata": {},
   "source": [
    "#### <font color = 'green'>Now we are going to correct the above code with inheritance"
   ]
  },
  {
   "cell_type": "code",
   "execution_count": 122,
   "id": "cb413e56",
   "metadata": {},
   "outputs": [],
   "source": [
    "class Account:\n",
    "    \n",
    "    def __init__(self, name, accountnumber, balance):  #constructor\n",
    "        self.name = name\n",
    "        self.acc_no = accountnumber\n",
    "        self.bal = balance\n",
    "        self.num_trans = 0\n",
    "        self.maxtrans = 2\n",
    "        \n",
    "    def deposit(self, amount):\n",
    "        if amount > 0 and self.num_trans < self.maxtrans:\n",
    "            self.bal = self.bal + amount\n",
    "            self.num_trans += 1\n",
    "    \n",
    "    def withdraw(self, amount):\n",
    "        if amount > 0 and self.bal >= amount and self.num_trans < self.maxtrans:\n",
    "            self.bal = self.bal - amount\n",
    "            self.num_trans += 1\n",
    "        \n",
    "    def __str__(self):\n",
    "        return f'Account belongs to {self.name}, account number is {self.acc_no} and the balance is {self.bal}'\n",
    "    \n",
    "class SavingsAccount(Account):\n",
    "    pass\n",
    "\n",
    "class CurrentAccount(Account):\n",
    "    def __init__(self, name, accountnumber, balance):\n",
    "        super().__init__(name, accountnumber, balance)\n",
    "        self.maxtrans = 5"
   ]
  },
  {
   "cell_type": "code",
   "execution_count": 144,
   "id": "39fda3a0",
   "metadata": {},
   "outputs": [],
   "source": [
    "sav1 = SavingsAccount('Kamal', 200, 32000)\n",
    "cur1 = CurrentAccount('Mahesh', 202, 89000)"
   ]
  },
  {
   "cell_type": "code",
   "execution_count": 145,
   "id": "ae92c5ca",
   "metadata": {},
   "outputs": [],
   "source": [
    "sav1.deposit(3000)"
   ]
  },
  {
   "cell_type": "code",
   "execution_count": 127,
   "id": "7cf60fec",
   "metadata": {},
   "outputs": [
    {
     "data": {
      "text/plain": [
       "35000"
      ]
     },
     "execution_count": 127,
     "metadata": {},
     "output_type": "execute_result"
    }
   ],
   "source": [
    "sav1.bal"
   ]
  },
  {
   "cell_type": "code",
   "execution_count": 146,
   "id": "13c41c31",
   "metadata": {},
   "outputs": [],
   "source": [
    "sav1.withdraw(5000)"
   ]
  },
  {
   "cell_type": "code",
   "execution_count": 147,
   "id": "9e3bfbfb",
   "metadata": {},
   "outputs": [
    {
     "data": {
      "text/plain": [
       "30000"
      ]
     },
     "execution_count": 147,
     "metadata": {},
     "output_type": "execute_result"
    }
   ],
   "source": [
    "sav1.bal"
   ]
  },
  {
   "cell_type": "code",
   "execution_count": 130,
   "id": "7a6f1678",
   "metadata": {},
   "outputs": [],
   "source": [
    "sav1.deposit(5000)"
   ]
  },
  {
   "cell_type": "code",
   "execution_count": 131,
   "id": "6d527056",
   "metadata": {},
   "outputs": [
    {
     "data": {
      "text/plain": [
       "40000"
      ]
     },
     "execution_count": 131,
     "metadata": {},
     "output_type": "execute_result"
    }
   ],
   "source": [
    "sav1.bal"
   ]
  },
  {
   "cell_type": "code",
   "execution_count": null,
   "id": "75f409ab",
   "metadata": {},
   "outputs": [],
   "source": []
  },
  {
   "cell_type": "code",
   "execution_count": 132,
   "id": "e7607bcd",
   "metadata": {},
   "outputs": [],
   "source": [
    "cur1.deposit(1000)"
   ]
  },
  {
   "cell_type": "code",
   "execution_count": 133,
   "id": "23e0f022",
   "metadata": {},
   "outputs": [
    {
     "data": {
      "text/plain": [
       "90000"
      ]
     },
     "execution_count": 133,
     "metadata": {},
     "output_type": "execute_result"
    }
   ],
   "source": [
    "cur1.bal"
   ]
  },
  {
   "cell_type": "code",
   "execution_count": 134,
   "id": "ba2af523",
   "metadata": {},
   "outputs": [],
   "source": [
    "cur1.deposit(1000)"
   ]
  },
  {
   "cell_type": "code",
   "execution_count": 135,
   "id": "d657dbb7",
   "metadata": {},
   "outputs": [
    {
     "data": {
      "text/plain": [
       "91000"
      ]
     },
     "execution_count": 135,
     "metadata": {},
     "output_type": "execute_result"
    }
   ],
   "source": [
    "cur1.bal"
   ]
  },
  {
   "cell_type": "code",
   "execution_count": 136,
   "id": "40d11bd2",
   "metadata": {},
   "outputs": [],
   "source": [
    "cur1.deposit(1000)"
   ]
  },
  {
   "cell_type": "code",
   "execution_count": 137,
   "id": "1a37e5b1",
   "metadata": {},
   "outputs": [
    {
     "data": {
      "text/plain": [
       "92000"
      ]
     },
     "execution_count": 137,
     "metadata": {},
     "output_type": "execute_result"
    }
   ],
   "source": [
    "cur1.bal"
   ]
  },
  {
   "cell_type": "code",
   "execution_count": 138,
   "id": "f3fd3810",
   "metadata": {},
   "outputs": [],
   "source": [
    "cur1.deposit(1000)"
   ]
  },
  {
   "cell_type": "code",
   "execution_count": 139,
   "id": "23a43369",
   "metadata": {},
   "outputs": [
    {
     "data": {
      "text/plain": [
       "93000"
      ]
     },
     "execution_count": 139,
     "metadata": {},
     "output_type": "execute_result"
    }
   ],
   "source": [
    "cur1.bal"
   ]
  },
  {
   "cell_type": "code",
   "execution_count": 140,
   "id": "8a74e076",
   "metadata": {},
   "outputs": [],
   "source": [
    "cur1.deposit(1000)"
   ]
  },
  {
   "cell_type": "code",
   "execution_count": 141,
   "id": "05bd1db8",
   "metadata": {},
   "outputs": [
    {
     "data": {
      "text/plain": [
       "94000"
      ]
     },
     "execution_count": 141,
     "metadata": {},
     "output_type": "execute_result"
    }
   ],
   "source": [
    "cur1.bal"
   ]
  },
  {
   "cell_type": "code",
   "execution_count": 142,
   "id": "a04b86b4",
   "metadata": {},
   "outputs": [],
   "source": [
    "cur1.deposit(1000)"
   ]
  },
  {
   "cell_type": "code",
   "execution_count": 143,
   "id": "87b818f9",
   "metadata": {},
   "outputs": [
    {
     "data": {
      "text/plain": [
       "94000"
      ]
     },
     "execution_count": 143,
     "metadata": {},
     "output_type": "execute_result"
    }
   ],
   "source": [
    "cur1.bal"
   ]
  },
  {
   "cell_type": "markdown",
   "id": "694c5622",
   "metadata": {},
   "source": [
    "### Polymorphism"
   ]
  },
  {
   "cell_type": "code",
   "execution_count": 166,
   "id": "19a94ba1",
   "metadata": {},
   "outputs": [],
   "source": [
    "class Account:\n",
    "    \n",
    "    def __init__(self, name, accountnumber, balance):  #constructor\n",
    "        self.name = name\n",
    "        self.acc_no = accountnumber\n",
    "        self.bal = balance\n",
    "        self.num_trans = 0\n",
    "        self.maxtrans = 2\n",
    "        \n",
    "    def deposit(self, amount):\n",
    "        if amount > 0 and self.num_trans < self.maxtrans:\n",
    "            self.bal = self.bal + amount\n",
    "            self.num_trans += 1\n",
    "    \n",
    "    def withdraw(self, amount):\n",
    "        if amount > 0 and self.bal >= amount and self.num_trans < self.maxtrans:\n",
    "            self.bal = self.bal - amount\n",
    "            self.num_trans += 1\n",
    "    \n",
    "        \n",
    "    def __str__(self):\n",
    "        return f'Account belongs to {self.name}, account number is {self.acc_no} and the balance is {self.bal}'\n",
    "    \n",
    "class SavingsAccount(Account):\n",
    "    pass\n",
    "\n",
    "    def getInterest(self):\n",
    "        interest = self.bal * 0.04\n",
    "        print(f'Account {self.acc_no} has recived interest of Rs {interest}')\n",
    "\n",
    "class CurrentAccount(Account):\n",
    "    def __init__(self, name, accountnumber, balance):\n",
    "        super().__init__(name, accountnumber, balance)\n",
    "        self.maxtrans = 5\n",
    "        \n",
    "    def getInterest(self):\n",
    "        interest = self.bal * 0\n",
    "        print(f'Account {self.acc_no} has recived interest of Rs {interest}')"
   ]
  },
  {
   "cell_type": "code",
   "execution_count": 167,
   "id": "010a732d",
   "metadata": {},
   "outputs": [],
   "source": [
    "sav1 = SavingsAccount('Kamal', 200, 32000)\n",
    "cur1 = CurrentAccount('Mahesh', 202, 89000)"
   ]
  },
  {
   "cell_type": "code",
   "execution_count": 168,
   "id": "b0011b29",
   "metadata": {},
   "outputs": [],
   "source": [
    "sav1.deposit(10000)"
   ]
  },
  {
   "cell_type": "code",
   "execution_count": 169,
   "id": "f28f62d6",
   "metadata": {},
   "outputs": [
    {
     "data": {
      "text/plain": [
       "42000"
      ]
     },
     "execution_count": 169,
     "metadata": {},
     "output_type": "execute_result"
    }
   ],
   "source": [
    "sav1.bal"
   ]
  },
  {
   "cell_type": "code",
   "execution_count": 170,
   "id": "5bd481e7",
   "metadata": {},
   "outputs": [
    {
     "name": "stdout",
     "output_type": "stream",
     "text": [
      "Account 200 has recived interest of Rs 1680.0\n"
     ]
    }
   ],
   "source": [
    "sav1.getInterest()"
   ]
  },
  {
   "cell_type": "code",
   "execution_count": 171,
   "id": "bd406116",
   "metadata": {},
   "outputs": [
    {
     "name": "stdout",
     "output_type": "stream",
     "text": [
      "Account 202 has recived interest of Rs 0\n"
     ]
    }
   ],
   "source": [
    "cur1.getInterest()"
   ]
  },
  {
   "cell_type": "markdown",
   "id": "3c6772f4",
   "metadata": {},
   "source": [
    "## Encapsulation"
   ]
  },
  {
   "cell_type": "code",
   "execution_count": 192,
   "id": "ee40fce2",
   "metadata": {},
   "outputs": [],
   "source": [
    "class Account:\n",
    "    \n",
    "    def __init__(self, name, accountnumber, balance):  #constructor\n",
    "        self.name = name\n",
    "        self.acc_no = accountnumber\n",
    "        self.__bal = balance\n",
    "        self.num_trans = 0\n",
    "        self.maxtrans = 2\n",
    "        \n",
    "    def deposit(self, amount):\n",
    "        if amount > 0 and self.num_trans < self.maxtrans:\n",
    "            self.__bal = self.__bal + amount\n",
    "            self.num_trans += 1\n",
    "    \n",
    "    def withdraw(self, amount):\n",
    "        if amount > 0 and self.__bal >= amount and self.num_trans < self.maxtrans:\n",
    "            self.__bal = self.__bal - amount\n",
    "            self.num_trans += 1\n",
    "    \n",
    "    def get_balance(self):\n",
    "        print(f'The balance in your account is {self.__bal}')\n",
    "        \n",
    "    def __str__(self):\n",
    "        return f'Account belongs to {self.name}, account number is {self.acc_no} and the balance is {self.__bal}'\n",
    "    \n",
    "class SavingsAccount(Account):\n",
    "    pass\n",
    "\n",
    "class CurrentAccount(Account):\n",
    "    def __init__(self, name, accountnumber, balance):\n",
    "        super().__init__(name, accountnumber, balance)\n",
    "        self.maxtrans = 5"
   ]
  },
  {
   "cell_type": "code",
   "execution_count": 193,
   "id": "ea1c1b02",
   "metadata": {},
   "outputs": [],
   "source": [
    "sav1 = SavingsAccount('Kamal', 200, 32000)\n",
    "cur1 = CurrentAccount('Mahesh', 202, 89000)"
   ]
  },
  {
   "cell_type": "code",
   "execution_count": 194,
   "id": "acb7b120",
   "metadata": {},
   "outputs": [
    {
     "name": "stdout",
     "output_type": "stream",
     "text": [
      "The balance in your account is 32000\n"
     ]
    }
   ],
   "source": [
    "sav1.get_balance()"
   ]
  },
  {
   "cell_type": "code",
   "execution_count": 196,
   "id": "84ac6db0",
   "metadata": {},
   "outputs": [
    {
     "ename": "AttributeError",
     "evalue": "'SavingsAccount' object has no attribute '__bal'",
     "output_type": "error",
     "traceback": [
      "\u001b[1;31m---------------------------------------------------------------------------\u001b[0m",
      "\u001b[1;31mAttributeError\u001b[0m                            Traceback (most recent call last)",
      "\u001b[1;32m<ipython-input-196-392db336f0b3>\u001b[0m in \u001b[0;36m<module>\u001b[1;34m\u001b[0m\n\u001b[1;32m----> 1\u001b[1;33m \u001b[0msav1\u001b[0m\u001b[1;33m.\u001b[0m\u001b[0m__bal\u001b[0m\u001b[1;33m\u001b[0m\u001b[1;33m\u001b[0m\u001b[0m\n\u001b[0m",
      "\u001b[1;31mAttributeError\u001b[0m: 'SavingsAccount' object has no attribute '__bal'"
     ]
    }
   ],
   "source": [
    "sav1.__bal"
   ]
  },
  {
   "cell_type": "code",
   "execution_count": null,
   "id": "763d7362",
   "metadata": {},
   "outputs": [],
   "source": []
  }
 ],
 "metadata": {
  "kernelspec": {
   "display_name": "Python 3",
   "language": "python",
   "name": "python3"
  },
  "language_info": {
   "codemirror_mode": {
    "name": "ipython",
    "version": 3
   },
   "file_extension": ".py",
   "mimetype": "text/x-python",
   "name": "python",
   "nbconvert_exporter": "python",
   "pygments_lexer": "ipython3",
   "version": "3.8.8"
  }
 },
 "nbformat": 4,
 "nbformat_minor": 5
}
