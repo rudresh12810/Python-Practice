{
 "cells": [
  {
   "cell_type": "markdown",
   "id": "bbe6350d",
   "metadata": {},
   "source": [
    "### Matplotlib\n",
    "\n",
    "##### You have been asked to analyze a dataset containing information on absenteeism. Your goal is to use the matplotlib library only to visualize the data.\n",
    "\n",
    "1. Import the absenteeism data set to complete the assignment.\n",
    "2. Plot a histogram of the age distribution of employees in the dataset\n",
    "3. Create a scatter plot of the relationship between age and the number of hours absent\n",
    "4. Plot a bar chart of the reasons for absence\n",
    "5. Create a stacked bar chart of the reasons for absence, separated by whether the employee is a smoker or non-smoker\n",
    "6. Plot a line chart of the average number of hours absent per day of the week:\n",
    "7. Create a boxplot of the number of hours absent, separated by whether the employee has children or not\n",
    "8. Plot a pie chart of the frequency of different education levels\n",
    "\n",
    "\n",
    "\n",
    "\n",
    "\n",
    "\n",
    "### Seaborn\n",
    "\n",
    "##### You've been tasked with analyzing a dataset containing information on the characteristics of different types of flowers. Your goal is to use Seaborn to visualize the data in a way that allows you to draw meaningful conclusions about the relationship between the different variables.\n",
    "\n",
    "\n",
    "1. Load the iris dataset using seaborn library.\n",
    "2. Create a scatter plot of sepal length and width with each species of iris represented by a different color\n",
    "3. Create a histogram of the distribution of petal lengths for each species of iris\n",
    "4. Create a violin plot of the distribution of sepal widths for each species of iris\n",
    "5. Create a pairplot of all four variables (sepal length, sepal width, petal length, and petal width), with each species of iris    represented by a different color\n",
    "6. Create a heatmap showing the correlation between all four variables\n",
    "\n",
    "\n",
    "\n",
    "\n",
    "### OOPS\n",
    "\n",
    "##### You have been given a task to create a Python class to represent a shape. Your class should have the following features:\n",
    "\n",
    "\n",
    "\n",
    "1. A constructor method to initialize the shape's name and color.\n",
    "\n",
    "2. A method to calculate the area of the shape.\n",
    "\n",
    "3. A method to calculate the perimeter of the shape.\n",
    "\n",
    "\n",
    "* Create subclasses of your shape class for a circle, a square, and a rectangle. \n",
    "\n",
    "* Each subclass should implement the methods to calculate the area and perimeter for its specific shape.\n",
    "\n",
    "* Create instances of each shape and print out their area and perimeter.\n",
    "\n"
   ]
  },
  {
   "cell_type": "code",
   "execution_count": 1,
   "id": "01296dae",
   "metadata": {},
   "outputs": [],
   "source": [
    "import numpy as np\n",
    "import pandas as pd\n",
    "import matplotlib.pyplot as plt\n",
    "import seaborn as sns"
   ]
  },
  {
   "cell_type": "markdown",
   "id": "2c203dd8",
   "metadata": {},
   "source": [
    "### Matplotlib\n",
    "\n",
    "##### You have been asked to analyze a dataset containing information on absenteeism. Your goal is to use the matplotlib library only to visualize the data.\n",
    "\n",
    "1. Import the absenteeism data set to complete the assignment.\n",
    "2. Plot a histogram of the age distribution of employees in the dataset\n",
    "3. Create a scatter plot of the relationship between age and the number of hours absent\n",
    "4. Plot a bar chart of the reasons for absence\n",
    "5. Create a stacked bar chart of the reasons for absence, separated by whether the employee is a smoker or non-smoker\n",
    "6. Plot a line chart of the average number of hours absent per day of the week:\n",
    "7. Create a boxplot of the number of hours absent, separated by whether the employee has children or not\n",
    "8. Plot a pie chart of the frequency of different education levels\n"
   ]
  },
  {
   "cell_type": "code",
   "execution_count": null,
   "id": "04e62794",
   "metadata": {},
   "outputs": [],
   "source": [
    "pd.read_excel('2181734-Absenteeism_at_work.xls')"
   ]
  },
  {
   "cell_type": "code",
   "execution_count": null,
   "id": "6b85ff46",
   "metadata": {},
   "outputs": [],
   "source": []
  }
 ],
 "metadata": {
  "kernelspec": {
   "display_name": "Python 3 (ipykernel)",
   "language": "python",
   "name": "python3"
  },
  "language_info": {
   "codemirror_mode": {
    "name": "ipython",
    "version": 3
   },
   "file_extension": ".py",
   "mimetype": "text/x-python",
   "name": "python",
   "nbconvert_exporter": "python",
   "pygments_lexer": "ipython3",
   "version": "3.9.7"
  }
 },
 "nbformat": 4,
 "nbformat_minor": 5
}
