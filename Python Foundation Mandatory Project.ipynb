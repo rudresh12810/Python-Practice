{
 "cells": [
  {
   "cell_type": "markdown",
   "id": "f5778fd2",
   "metadata": {},
   "source": [
    " Q1: You are working in a bank, and you have been given two lists of the employees who worked in 2021. Employees’ names in list 1 are Ramesh, Suresh, Mahesh, Ali, Jacob, and Saritha. List 2 contains the names of Ali, Mukesh, Mahesh, Jacob, Sai, and Sarita. Please write a program that helps to identify people who are common in both lists. Please do not use any in-built function. "
   ]
  },
  {
   "cell_type": "code",
   "execution_count": 1,
   "id": "2fc9e6ab",
   "metadata": {},
   "outputs": [
    {
     "name": "stdout",
     "output_type": "stream",
     "text": [
      "Mahesh\n",
      "Ali\n",
      "Jacob\n",
      "['Mahesh', 'Ali', 'Jacob']\n"
     ]
    }
   ],
   "source": [
    "lst1 = [\"Ramesh\", \"Suresh\", \"Mahesh\", \"Ali\", \"Jacob\", \"Saritha\"]\n",
    "lst2 = [\"Ali\", \"Mukesh\", \"Mahesh\", \"Jacob\", \"Sai\", \"Sarita\"]\n",
    "store = []\n",
    "for i in lst1:\n",
    "    for j in lst2:\n",
    "        if (i == j):\n",
    "            print(i)\n",
    "            store.append(i)    \n",
    "print(store)\n",
    "\n"
   ]
  },
  {
   "cell_type": "markdown",
   "id": "4cac61d9",
   "metadata": {},
   "source": [
    "    "
   ]
  },
  {
   "cell_type": "markdown",
   "id": "5f424680",
   "metadata": {},
   "source": [
    "   \n",
    "   "
   ]
  },
  {
   "cell_type": "markdown",
   "id": "c1ee4755",
   "metadata": {},
   "source": [
    "Q2: While entering data, someone entered a few names as a common string “Ramesh Suresh Mohit”. Please write a program which separates all the names and converts them into a list. Once converted into a list, please write a program that adds their age. \n",
    "\n",
    "\n",
    "Ramesh:  25\n",
    "\n",
    "Suresh: 22\n",
    "\n",
    "Mohit: 26"
   ]
  },
  {
   "cell_type": "code",
   "execution_count": 6,
   "id": "1a66590b",
   "metadata": {},
   "outputs": [
    {
     "name": "stdout",
     "output_type": "stream",
     "text": [
      "Ramesh Suresh Mohit\n",
      "['Ramesh', 'Suresh', 'Mohit'] \n",
      "\n",
      "Ramesh: 25\n",
      "Suresh: 22\n",
      "Mohit: 26\n"
     ]
    }
   ],
   "source": [
    "str1 = \"Ramesh Suresh Mohit\"\n",
    "print (str1)\n",
    "name_list = str1.split()\n",
    "print(name_list,\"\\n\")\n",
    "\n",
    "ages = {\"Ramesh\":25, \"Suresh\":22, \"Mohit\":26}\n",
    "result = []\n",
    "for name in name_list:\n",
    "    if name in ages:\n",
    "        age = ages[name]\n",
    "        result.append((name,age))\n",
    "for name, age in result:\n",
    "    print(f\"{name}: {age}\")"
   ]
  },
  {
   "cell_type": "markdown",
   "id": "1aee8520",
   "metadata": {},
   "source": [
    "                        \n",
    "                        \n",
    "                         "
   ]
  },
  {
   "cell_type": "markdown",
   "id": "9fb1c575",
   "metadata": {},
   "source": [
    "     "
   ]
  },
  {
   "cell_type": "markdown",
   "id": "5aa0be89",
   "metadata": {},
   "source": [
    "Q3: You are working in a medical store. A patient came to your medical store and asked to buy 2 strips of paracetamol, 3 strips of azithromycin, and 5 strips of Vitamin C. One strip of paracetamol costs Rs 35, one strip of azithromycin costs Rs 49, and one strip of vitamin c costs Rs. 33. Patient gave you Rs 2000. Please tell us what is the total cost of each medicine, the total cost of all medicine, and how much money you refunded to the patient. "
   ]
  },
  {
   "cell_type": "code",
   "execution_count": 3,
   "id": "37999d4b",
   "metadata": {},
   "outputs": [
    {
     "name": "stdout",
     "output_type": "stream",
     "text": [
      "1618\n"
     ]
    }
   ],
   "source": [
    "paracetamol_qty  = 2\n",
    "azithromycin_qty = 3\n",
    "vitamin_c_qty    = 5\n",
    "\n",
    "# Cost of each medicine per strip\n",
    "paracetamol_cost  = 35\n",
    "azithromycin_cost = 49\n",
    "vitamin_c_cost    = 33\n",
    "\n",
    "# Total cost of each medicine\n",
    "paracetamol_total_cost  =  paracetamol_qty * paracetamol_cost\n",
    "azithromycin_total_cost =  azithromycin_qty * azithromycin_cost\n",
    "vitamin_c_total_cost    =  vitamin_c_qty * vitamin_c_cost\n",
    "\n",
    "# Total cost of all medicine\n",
    "total_cost = paracetamol_total_cost + azithromycin_total_cost + vitamin_c_total_cost\n",
    "\n",
    "# Amount paid by the patient\n",
    "amount_paid = 2000\n",
    "\n",
    "# Refund amount\n",
    "refund_amount = amount_paid - total_cost\n",
    "\n",
    "print(refund_amount)\n",
    "\n",
    "\n",
    "\n",
    "\n"
   ]
  },
  {
   "cell_type": "markdown",
   "id": "65ab4cee",
   "metadata": {},
   "source": [
    "\n",
    "\n"
   ]
  },
  {
   "cell_type": "markdown",
   "id": "ccd7a9c3",
   "metadata": {},
   "source": [
    "    "
   ]
  },
  {
   "cell_type": "markdown",
   "id": "c96a74d2",
   "metadata": {},
   "source": [
    "Q4: Accept a sentence as input and find the number of vowels in it. Assume that the sentence has no punctuation marks. For example, I am learning python contains 6 vowels. This function should be applicable for all other different sentences."
   ]
  },
  {
   "cell_type": "code",
   "execution_count": 30,
   "id": "0f4f1bdc",
   "metadata": {},
   "outputs": [
    {
     "name": "stdout",
     "output_type": "stream",
     "text": [
      "6\n",
      "The sentence 'I am learning python' contains 6 vowels.\n"
     ]
    }
   ],
   "source": [
    "vowels = ['a','e','i','o','u']\n",
    "str = \"I am learning python\"\n",
    "count = 0\n",
    "for i in str:\n",
    "    if i.lower() in vowels:\n",
    "        count+=1\n",
    "print(count)        \n",
    "print(f\"The sentence '{str}' contains {count} vowels.\")        \n",
    "        "
   ]
  },
  {
   "cell_type": "markdown",
   "id": "3e7f1aa7",
   "metadata": {},
   "source": [
    "  "
   ]
  },
  {
   "cell_type": "markdown",
   "id": "ef58f94a",
   "metadata": {},
   "source": [
    "   "
   ]
  },
  {
   "cell_type": "markdown",
   "id": "2f19b8a6",
   "metadata": {},
   "source": [
    "Q5: You have been appointed by the election commission to create a website. Your first task is to work on a program which tells candidates if they are eligible for voting or not. If they are eligible, your output should be ‘Congrats! You are eligible’; otherwise, it should tell that you have to return after X number of years. The eligibility criteria for voting is 18 years. \n",
    "\n",
    "\n",
    "For example, If someone is 18 or above, your output should be ‘Congrats! You are eligible’. If someone’s age is 15 years, it should print output as ‘return after 3 years’.   "
   ]
  },
  {
   "cell_type": "code",
   "execution_count": 13,
   "id": "63e20479",
   "metadata": {},
   "outputs": [
    {
     "name": "stdout",
     "output_type": "stream",
     "text": [
      "Enter Your Age here : 2\n",
      "\n",
      "you have to return after 16 number of years. The eligibility criteria for voting is 18 years\n"
     ]
    }
   ],
   "source": [
    "age = int(input(\"Enter Your Age here : \"))\n",
    "\n",
    "if age >= 18 :\n",
    "    print(\"Congrats! You are eligible\")\n",
    "else:\n",
    "    years_remaining = 18 - age\n",
    "    print(f\"\\nyou have to return after {years_remaining} number of years. The eligibility criteria for voting is 18 years\")\n"
   ]
  },
  {
   "cell_type": "markdown",
   "id": "9a8a1c84",
   "metadata": {},
   "source": [
    "    "
   ]
  },
  {
   "cell_type": "markdown",
   "id": "281f65c4",
   "metadata": {},
   "source": [
    "     "
   ]
  },
  {
   "cell_type": "markdown",
   "id": "4dabfce9",
   "metadata": {},
   "source": [
    "Q6: Given a list of integers, find the cumulative sum of the elements of the list and store them in another list.\n",
    "\n",
    "\n",
    "A = [1, 2, 3, 4, 5]\n",
    "\n",
    "\n",
    "Output: \n",
    "\n",
    "[1, 3, 6, 10, 15]"
   ]
  },
  {
   "cell_type": "code",
   "execution_count": 1,
   "id": "b5806446",
   "metadata": {},
   "outputs": [
    {
     "name": "stdout",
     "output_type": "stream",
     "text": [
      "[1, 3, 6, 10, 15]\n"
     ]
    }
   ],
   "source": [
    "A = [1, 2, 3, 4, 5]\n",
    "cumulative_sum = 0\n",
    "B = []\n",
    "for i in A:\n",
    "     cumulative_sum +=i\n",
    "     B.append(cumulative_sum)\n",
    "print(B)"
   ]
  },
  {
   "cell_type": "markdown",
   "id": "40f686ee",
   "metadata": {},
   "source": [
    "    "
   ]
  },
  {
   "cell_type": "markdown",
   "id": "4971ef37",
   "metadata": {},
   "source": [
    "   "
   ]
  },
  {
   "cell_type": "markdown",
   "id": "04f168d0",
   "metadata": {},
   "source": [
    "Q7:\n",
    "\n",
    "WAP to encode a message entered by user as per below conditions:\n",
    "\n",
    "\n",
    "\n",
    "for every word in the sentence, \n",
    "\n",
    "1. If the word starts with a vowel, encode it as first and last letter of the word.\n",
    "\n",
    "2. If the word starts with a consonant, remove all vowels from it.\n",
    "\n",
    "\n",
    "\n",
    "Ensure the case insensitive comparisions/checks are performed.\n",
    "\n",
    "\n",
    "\n",
    "Please enter your text:The quick brown fox used to sleep inside this box\n",
    "\n",
    "Encoded Msg: Th qck brwn fx ud t slp ie ths bx"
   ]
  },
  {
   "cell_type": "code",
   "execution_count": 3,
   "id": "f7208581",
   "metadata": {},
   "outputs": [
    {
     "name": "stdout",
     "output_type": "stream",
     "text": [
      "\n",
      " Th qck brwn fx ud t slp ie ths bx\n"
     ]
    }
   ],
   "source": [
    "vowels = ['a','e','i','o','u']\n",
    "str = \"The quick brown fox used to sleep inside this box\"\n",
    "encoded_words = []\n",
    "words = str.split()\n",
    "\n",
    "for word in words:\n",
    "    lowercase_word = word.lower()\n",
    "    \n",
    "    if lowercase_word[0] in vowels:\n",
    "        encoded_word = word[0] + word[-1]\n",
    "        \n",
    "    else:\n",
    "        encoded_word = ''.join(char for char in word if char.lower() not in vowels)\n",
    "    encoded_words.append(encoded_word)\n",
    "    \n",
    "    \n",
    "encoded_msg = ' '.join(encoded_words)\n",
    "\n",
    "print(\"\\n\",encoded_msg)"
   ]
  },
  {
   "cell_type": "markdown",
   "id": "3501141c",
   "metadata": {},
   "source": [
    "   "
   ]
  },
  {
   "cell_type": "markdown",
   "id": "f0c14fbc",
   "metadata": {},
   "source": [
    "   "
   ]
  },
  {
   "cell_type": "markdown",
   "id": "9e1bce1b",
   "metadata": {},
   "source": [
    "  "
   ]
  },
  {
   "cell_type": "markdown",
   "id": "32fb672e",
   "metadata": {},
   "source": [
    "Q8:\n",
    "\n",
    "Write a program to implement run length encoding of a string\n",
    "\n",
    "\n",
    "\n",
    "RLE:Consecutive repetition of a character has to be replaced with the count of occurances and the character.\n",
    "\n",
    "\n",
    "\n",
    "Enter your string :aabbbccdddae\n",
    "\n",
    "Encoded: 2a3b2c3d1a1e"
   ]
  },
  {
   "cell_type": "code",
   "execution_count": 2,
   "id": "228bfa12",
   "metadata": {},
   "outputs": [
    {
     "name": "stdout",
     "output_type": "stream",
     "text": [
      "2a3b2c3d1a1e\n"
     ]
    }
   ],
   "source": [
    "string = \"aabbbccdddae\"\n",
    "encoded_string = \"\"\n",
    "count = 1\n",
    "\n",
    "for i in range(1, len(string)):\n",
    "    if string[i] == string[i - 1]:\n",
    "        count += 1\n",
    "    else:\n",
    "        encoded_string += str(count) + string[i - 1]\n",
    "        count = 1\n",
    "\n",
    "encoded_string += str(count) + string[-1]\n",
    "\n",
    "print(encoded_string)"
   ]
  }
 ],
 "metadata": {
  "kernelspec": {
   "display_name": "Python 3 (ipykernel)",
   "language": "python",
   "name": "python3"
  },
  "language_info": {
   "codemirror_mode": {
    "name": "ipython",
    "version": 3
   },
   "file_extension": ".py",
   "mimetype": "text/x-python",
   "name": "python",
   "nbconvert_exporter": "python",
   "pygments_lexer": "ipython3",
   "version": "3.11.5"
  }
 },
 "nbformat": 4,
 "nbformat_minor": 5
}
